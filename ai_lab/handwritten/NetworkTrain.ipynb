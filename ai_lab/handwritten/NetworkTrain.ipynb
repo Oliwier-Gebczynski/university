{
 "cells": [
  {
   "cell_type": "code",
   "id": "initial_id",
   "metadata": {
    "collapsed": true,
    "ExecuteTime": {
     "end_time": "2025-10-24T18:33:48.040Z",
     "start_time": "2025-10-24T18:33:47.182148Z"
    }
   },
   "source": [
    "import torch\n",
    "import torch.nn as nn                           # neural network\n",
    "import torch.optim as optim                     # package implementing various optimization algorithms\n",
    "import torchvision\n",
    "import torchvision.transforms as transforms\n",
    "import cv2                                      # OpenCV\n",
    "import matplotlib.pyplot as plt\n",
    "from torch.utils.data import DataLoader\n",
    "# from NetworkClass import ANN\n",
    "from NetworkClass import CNN"
   ],
   "outputs": [],
   "execution_count": 2
  },
  {
   "metadata": {
    "ExecuteTime": {
     "end_time": "2025-10-24T18:33:48.765138Z",
     "start_time": "2025-10-24T18:33:48.671260Z"
    }
   },
   "cell_type": "code",
   "source": [
    "# load MNIST dataset\n",
    "transform = transforms.Compose([\n",
    "    transforms.ToTensor(),\n",
    "    transforms.Normalize((0.1307,), (0.3081,))\n",
    "])\n",
    "\n",
    "trainset = torchvision.datasets.MNIST(root='./data', train=True, transform=transform, download=True)\n",
    "testset = torchvision.datasets.MNIST(root='./data', train=False, transform=transform, download=True)\n",
    "\n",
    "train_loader = DataLoader(trainset, batch_size=64, shuffle=True)\n",
    "test_loader = DataLoader(testset, batch_size=64, shuffle=False)"
   ],
   "id": "84905f9cc23bee07",
   "outputs": [],
   "execution_count": 3
  },
  {
   "metadata": {
    "ExecuteTime": {
     "end_time": "2025-10-24T18:33:50.900161Z",
     "start_time": "2025-10-24T18:33:50.767168Z"
    }
   },
   "cell_type": "code",
   "source": [
    "# Show data\n",
    "images, labels = next(iter(train_loader))\n",
    "images.shape\n",
    "plt.imshow(images[63].reshape(28,28), cmap=\"gray\")"
   ],
   "id": "320f291d786b0488",
   "outputs": [
    {
     "data": {
      "text/plain": [
       "<matplotlib.image.AxesImage at 0x7387f6566590>"
      ]
     },
     "execution_count": 4,
     "metadata": {},
     "output_type": "execute_result"
    },
    {
     "data": {
      "text/plain": [
       "<Figure size 640x480 with 1 Axes>"
      ],
      "image/png": "[encoded data removed]"
     },
     "metadata": {},
     "output_type": "display_data",
     "jetTransient": {
      "display_id": null
     }
    }
   ],
   "execution_count": 4
  },
  {
   "metadata": {
    "ExecuteTime": {
     "end_time": "2025-10-24T18:39:18.433415Z",
     "start_time": "2025-10-24T18:34:12.131001Z"
    }
   },
   "cell_type": "code",
   "source": [
    "# train model\n",
    "model = CNN()\n",
    "loss_fn = nn.CrossEntropyLoss()\n",
    "optimizer = optim.Adam(model.parameters(), lr=0.001)\n",
    "\n",
    "epochs = 10\n",
    "for epoch in range(epochs):\n",
    "    model.train()\n",
    "    run_loss = 0.0\n",
    "    for images, labels in train_loader:\n",
    "        optimizer.zero_grad()\n",
    "        output = model(images)\n",
    "        loss = loss_fn(output, labels)\n",
    "        loss.backward()\n",
    "        optimizer.step()\n",
    "        run_loss += loss.item()\n",
    "    print(f'Epoch [{epoch+1}/{epochs}], Loss: {run_loss/len(train_loader):.4f}')\n"
   ],
   "id": "b2633088a15957fe",
   "outputs": [
    {
     "name": "stdout",
     "output_type": "stream",
     "text": [
      "Epoch [1/10], Loss: 0.1984\n",
      "Epoch [2/10], Loss: 0.0847\n",
      "Epoch [3/10], Loss: 0.0660\n",
      "Epoch [4/10], Loss: 0.0561\n",
      "Epoch [5/10], Loss: 0.0457\n",
      "Epoch [6/10], Loss: 0.0413\n",
      "Epoch [7/10], Loss: 0.0363\n",
      "Epoch [8/10], Loss: 0.0330\n",
      "Epoch [9/10], Loss: 0.0287\n",
      "Epoch [10/10], Loss: 0.0300\n"
     ]
    }
   ],
   "execution_count": 6
  },
  {
   "metadata": {
    "ExecuteTime": {
     "end_time": "2025-10-24T18:39:24.983903Z",
     "start_time": "2025-10-24T18:39:22.548476Z"
    }
   },
   "cell_type": "code",
   "source": [
    "# Test model\n",
    "correct = 0\n",
    "total = 0\n",
    "model.eval()\n",
    "\n",
    "with torch.no_grad():\n",
    "    for images, labels in test_loader:\n",
    "        outputs = model(images)\n",
    "        _, predicted = torch.max(outputs, 1)\n",
    "        total += labels.size(0)\n",
    "        correct += predicted.eq(labels).sum().item()\n",
    "print('Accuracy: {:.2f}%'.format(100 * correct / total))"
   ],
   "id": "36ea4827e85e7e7e",
   "outputs": [
    {
     "name": "stdout",
     "output_type": "stream",
     "text": [
      "Accuracy: 99.07%\n"
     ]
    }
   ],
   "execution_count": 7
  },
  {
   "metadata": {
    "ExecuteTime": {
     "end_time": "2025-10-24T18:39:27.684681Z",
     "start_time": "2025-10-24T18:39:27.656120Z"
    }
   },
   "cell_type": "code",
   "source": "torch.save(model, \"model.pth\")",
   "id": "2e78b969903221f7",
   "outputs": [],
   "execution_count": 8
  }
 ],
 "metadata": {
  "kernelspec": {
   "display_name": "Python 3",
   "language": "python",
   "name": "python3"
  },
  "language_info": {
   "codemirror_mode": {
    "name": "ipython",
    "version": 2
   },
   "file_extension": ".py",
   "mimetype": "text/x-python",
   "name": "python",
   "nbconvert_exporter": "python",
   "pygments_lexer": "ipython2",
   "version": "2.7.6"
  }
 },
 "nbformat": 4,
 "nbformat_minor": 5
}
